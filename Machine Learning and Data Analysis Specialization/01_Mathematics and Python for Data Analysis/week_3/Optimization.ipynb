{
 "cells": [
  {
   "cell_type": "markdown",
   "metadata": {},
   "source": [
    "# Задача 1. Минимизация гладкой функции"
   ]
  },
  {
   "cell_type": "markdown",
   "metadata": {},
   "source": [
    "## Рассмотрим все ту же функцию из задания по линейной алгебре: f(x) = sin(x / 5) exp(x / 10) + 5 exp(-x / 2), но теперь уже на промежутке [1, 30]"
   ]
  },
  {
   "cell_type": "code",
   "execution_count": 1,
   "metadata": {},
   "outputs": [],
   "source": [
    "from math import sin, exp\n",
    "\n",
    "def func1(x):\n",
    "    return sin(x / 5.) * exp(x / 10.) + 5. * exp(-x/ 2.)"
   ]
  },
  {
   "cell_type": "code",
   "execution_count": 2,
   "metadata": {},
   "outputs": [
    {
     "name": "stdout",
     "output_type": "stream",
     "text": [
      "[ 1.  2.  3.  4.  5.  6.  7.  8.  9. 10. 11. 12. 13. 14. 15. 16. 17. 18.\n",
      " 19. 20. 21. 22. 23. 24. 25. 26. 27. 28. 29. 30.]\n",
      "Shape x: (30,)\n",
      "[  3.25221687   2.31503384   1.87783842   1.74684595   1.7977761\n",
      "   1.94722128   2.13543898   2.31617016   2.45082365   2.50541641\n",
      "   2.44929128   2.2550105    1.89904466   1.36300335   0.63522142\n",
      "  -0.28745171  -1.39780121  -2.67647563  -4.09044301  -5.59182909\n",
      "  -7.11729817  -8.58813805  -9.91120472 -10.98086747 -11.68207055\n",
      " -11.89459075 -11.49852141 -10.38095272  -8.44374503  -5.61220878]\n",
      "Shape y: (30,)\n"
     ]
    }
   ],
   "source": [
    "import numpy as np\n",
    "\n",
    "xArr1 = np.arange(1., 31.)\n",
    "yArr1 = np.array([func1(x) for x in xArr1])\n",
    "\n",
    "print(xArr1)\n",
    "print(\"Shape x:\", xArr1.shape)\n",
    "\n",
    "print(yArr1)\n",
    "print(\"Shape y:\", yArr1.shape)"
   ]
  },
  {
   "cell_type": "code",
   "execution_count": 3,
   "metadata": {},
   "outputs": [
    {
     "data": {
      "image/png": "[encoded data removed]",
      "text/plain": [
       "<Figure size 432x288 with 1 Axes>"
      ]
     },
     "metadata": {
      "needs_background": "light"
     },
     "output_type": "display_data"
    }
   ],
   "source": [
    "%matplotlib inline\n",
    "import matplotlib.pyplot as plt\n",
    "\n",
    "plt.plot(xArr1, yArr1)\n",
    "plt.grid(True)\n",
    "plt.axis([0, 30, -15, 5])\n",
    "plt.show()"
   ]
  },
  {
   "cell_type": "code",
   "execution_count": 5,
   "metadata": {},
   "outputs": [
    {
     "data": {
      "text/plain": [
       "      fun: 1.745268290331984\n",
       " hess_inv: array([[6.0552088]])\n",
       "      jac: array([-4.47034836e-08])\n",
       "  message: 'Optimization terminated successfully.'\n",
       "     nfev: 21\n",
       "      nit: 6\n",
       "     njev: 7\n",
       "   status: 0\n",
       "  success: True\n",
       "        x: array([4.13628832])"
      ]
     },
     "execution_count": 5,
     "metadata": {},
     "output_type": "execute_result"
    }
   ],
   "source": [
    "from scipy.optimize import minimize\n",
    "\n",
    "minFunc1Value1 = minimize(func1, 5)\n",
    "minFunc1Value1"
   ]
  },
  {
   "cell_type": "code",
   "execution_count": 7,
   "metadata": {},
   "outputs": [
    {
     "name": "stdout",
     "output_type": "stream",
     "text": [
      "[1.75 0.  ]\n"
     ]
    }
   ],
   "source": [
    "minFunc1Value2 = minimize(func1, 2, method = 'BFGS')\n",
    "\n",
    "minValuesAnswer1 = np.zeros( (2) )\n",
    "minValuesAnswer1[0] = round(minFunc1Value2.fun, 2)\n",
    "print(minValuesAnswer1) "
   ]
  },
  {
   "cell_type": "code",
   "execution_count": 9,
   "metadata": {},
   "outputs": [
    {
     "name": "stdout",
     "output_type": "stream",
     "text": [
      "[  1.75 -11.9 ]\n"
     ]
    }
   ],
   "source": [
    "minFunc1Value3 = minimize(func1, 30, method = 'BFGS')\n",
    "\n",
    "minValuesAnswer1[1] = round(minFunc1Value3.fun, 2)\n",
    "print(minValuesAnswer1) "
   ]
  },
  {
   "cell_type": "code",
   "execution_count": 11,
   "metadata": {},
   "outputs": [],
   "source": [
    "with open(\"submission_1.txt\", \"w\") as fAnswer:\n",
    "    for item in minValuesAnswer1:\n",
    "        fAnswer.write(str(item) + ' ')"
   ]
  },
  {
   "cell_type": "markdown",
   "metadata": {},
   "source": [
    "# Задача 2. Глобальная оптимизация"
   ]
  },
  {
   "cell_type": "code",
   "execution_count": 12,
   "metadata": {},
   "outputs": [],
   "source": [
    "from scipy.optimize import differential_evolution\n",
    "\n",
    "bounds = [(1, 30)]\n",
    "minFunc1Value4 = differential_evolution(func1, bounds)"
   ]
  },
  {
   "cell_type": "code",
   "execution_count": 13,
   "metadata": {},
   "outputs": [],
   "source": [
    "with open(\"submission_2.txt\", \"w\") as fAnswer:\n",
    "    fAnswer.write(str(round(minFunc1Value4.fun, 2)))"
   ]
  },
  {
   "cell_type": "markdown",
   "metadata": {},
   "source": [
    "## Задача 3. Минимизация негладкой функции"
   ]
  },
  {
   "cell_type": "code",
   "execution_count": 14,
   "metadata": {},
   "outputs": [
    {
     "name": "stdout",
     "output_type": "stream",
     "text": [
      "[ 1.    1.01  1.02 ... 30.97 30.98 30.99]\n",
      "Shape x: (3000,)\n",
      "[ 3  3  3 ... -1 -1 -1]\n",
      "Shape y: (3000,)\n"
     ]
    }
   ],
   "source": [
    "def func2(x): return int(func1(x))\n",
    "\n",
    "xArr2 = np.arange(1., 31., 0.01)\n",
    "yArr2 = np.array([func2(x) for x in xArr2])\n",
    "\n",
    "print(xArr2) \n",
    "print(\"Shape x:\", xArr2.shape) \n",
    "print(yArr2) \n",
    "print(\"Shape y:\", yArr2.shape) "
   ]
  },
  {
   "cell_type": "code",
   "execution_count": null,
   "metadata": {},
   "outputs": [],
   "source": [
    "plt.plot(xArr2, yArr2)\n",
    "plt.grid(True)\n",
    "plt.axis([0, 30, -15, 5])\n",
    "plt.show()"
   ]
  }
 ],
 "metadata": {
  "kernelspec": {
   "display_name": "Python 3",
   "language": "python",
   "name": "python3"
  },
  "language_info": {
   "codemirror_mode": {
    "name": "ipython",
    "version": 3
   },
   "file_extension": ".py",
   "mimetype": "text/x-python",
   "name": "python",
   "nbconvert_exporter": "python",
   "pygments_lexer": "ipython3",
   "version": "3.7.4"
  }
 },
 "nbformat": 4,
 "nbformat_minor": 2
}
