{
 "cells": [
  {
   "cell_type": "markdown",
   "metadata": {},
   "source": [
    "# Линейная алгебра: сходство текстов и аппроксимация функций"
   ]
  },
  {
   "cell_type": "code",
   "execution_count": 1,
   "metadata": {},
   "outputs": [],
   "source": [
    "with open('sentences.txt', 'r') as fileSentences:\n",
    "    dataSentences = list(fileSentences)"
   ]
  },
  {
   "cell_type": "code",
   "execution_count": 19,
   "metadata": {},
   "outputs": [
    {
     "name": "stdout",
     "output_type": "stream",
     "text": [
      "In comparison to dogs, cats have not undergone major changes during the domestication process.\n",
      "\n",
      "As cat simply catenates streams of bytes, it can be also used to concatenate binary files, where it will just concatenate sequence of bytes.\n",
      "\n",
      "A common interactive use of cat for a single file is to output the content of a file to standard output.\n",
      "\n",
      "Cats can hear sounds too faint or too high in frequency for human ears, such as those made by mice and other small animals.\n",
      "\n",
      "In one, people deliberately tamed cats in a process of artificial selection, as they were useful predators of vermin.\n",
      "\n",
      "The domesticated cat and its closest wild ancestor are both diploid organisms that possess 38 chromosomes and roughly 20,000 genes.\n",
      "\n",
      "Domestic cats are similar in size to the other members of the genus Felis, typically weighing between 4 and 5 kg (8.8 and 11.0 lb).\n",
      "\n",
      "However, if the output is piped or redirected, cat is unnecessary.\n",
      "\n",
      "cat with one named file is safer where human error is a concern - one wrong use of the default redirection symbol \">\" instead of \"<\" (often adjacent on keyboards) may permanently delete the file you were just needing to read.\n",
      "\n",
      "In terms of legibility, a sequence of commands starting with cat and connected by pipes has a clear left-to-right flow of information.\n",
      "\n",
      "Cat command is one of the basic commands that you learned when you started in the Unix / Linux world.\n",
      "\n",
      "Using cat command, the lines received from stdin can be redirected to a new file using redirection symbols.\n",
      "\n",
      "When you type simply cat command without any arguments, it just receives the stdin content and displays it in the stdout.\n",
      "\n",
      "Leopard was released on October 26, 2007 as the successor of Tiger (version 10.4), and is available in two editions.\n",
      "\n",
      "According to Apple, Leopard contains over 300 changes and enhancements over its predecessor, Mac OS X Tiger.\n",
      "\n",
      "As of Mid 2010, some Apple computers have firmware factory installed which will no longer allow installation of Mac OS X Leopard.\n",
      "\n",
      "Since Apple moved to using Intel processors in their computers, the OSx86 community has developed and now also allows Mac OS X Tiger and later releases to be installed on non-Apple x86-based computers.\n",
      "\n",
      "OS X Mountain Lion was released on July 25, 2012 for purchase and download through Apple's Mac App Store, as part of a switch to releasing OS X versions online and every year.\n",
      "\n",
      "Apple has released a small patch for the three most recent versions of Safari running on OS X Yosemite, Mavericks, and Mountain Lion.\n",
      "\n",
      "The Mountain Lion release marks the second time Apple has offered an incremental upgrade, rather than releasing a new cat entirely.\n",
      "\n",
      "Mac OS X Mountain Lion installs in place, so you won't need to create a separate disk or run the installation off an external drive.\n",
      "\n",
      "The fifth major update to Mac OS X, Leopard, contains such a mountain of features - more than 300 by Apple's count.\n"
     ]
    }
   ],
   "source": [
    "for line in dataSentences:\n",
    "    print(line)"
   ]
  },
  {
   "cell_type": "code",
   "execution_count": 21,
   "metadata": {},
   "outputs": [],
   "source": [
    "dataSentencesLower = []\n",
    "for i in range(len(dataSentences)):\n",
    "    dataSentencesLower.append(dataSentences[i].lower())"
   ]
  },
  {
   "cell_type": "markdown",
   "metadata": {},
   "source": [
    "## Производим токенизацию (разбиение текстов на слова). Удалим пустые слова."
   ]
  },
  {
   "cell_type": "code",
   "execution_count": 23,
   "metadata": {},
   "outputs": [],
   "source": [
    "import re"
   ]
  },
  {
   "cell_type": "code",
   "execution_count": 24,
   "metadata": {},
   "outputs": [],
   "source": [
    "dataWords = []\n",
    "for line in dataSentencesLower:\n",
    "    dataWords.append(re.split('[^a-z]', line))"
   ]
  },
  {
   "cell_type": "code",
   "execution_count": 25,
   "metadata": {},
   "outputs": [],
   "source": [
    "dataWordsCleared = [[] for i in range(len(dataWords))]\n",
    "\n",
    "i = 0\n",
    "for line in dataWords:\n",
    "    for word in line:\n",
    "        if word != '':\n",
    "            dataWordsCleared[i].append(word)\n",
    "    i = i + 1"
   ]
  },
  {
   "cell_type": "markdown",
   "metadata": {},
   "source": [
    "## Составим словарь всех слов."
   ]
  },
  {
   "cell_type": "code",
   "execution_count": 29,
   "metadata": {},
   "outputs": [
    {
     "name": "stdout",
     "output_type": "stream",
     "text": [
      "254\n"
     ]
    }
   ],
   "source": [
    "dictWords = {}\n",
    "\n",
    "i = 0\n",
    "for line in dataWordsCleared:\n",
    "    for word in line:\n",
    "        if word not in dictWords:\n",
    "            dictWords[word] = i\n",
    "            i += 1\n",
    "            \n",
    "print(len(dictWords)) # число различных слов"
   ]
  },
  {
   "cell_type": "code",
   "execution_count": 31,
   "metadata": {},
   "outputs": [
    {
     "name": "stdout",
     "output_type": "stream",
     "text": [
      "22 254\n"
     ]
    }
   ],
   "source": [
    "import pandas as pd\n",
    "\n",
    "frameWords = pd.DataFrame(dictWords, range(len(dataWordsCleared)))\n",
    "rowsCnt, colCnt = frameWords.shape\n",
    "print(rowsCnt, colCnt)"
   ]
  },
  {
   "cell_type": "code",
   "execution_count": 36,
   "metadata": {},
   "outputs": [],
   "source": [
    "for i in range(rowsCnt):\n",
    "    for j in range(colCnt):\n",
    "        frameWords.iloc[i, j] = 0"
   ]
  },
  {
   "cell_type": "code",
   "execution_count": 38,
   "metadata": {},
   "outputs": [
    {
     "name": "stdout",
     "output_type": "stream",
     "text": [
      "22\n"
     ]
    }
   ],
   "source": [
    "print(len(dataWordsCleared))"
   ]
  },
  {
   "cell_type": "code",
   "execution_count": 40,
   "metadata": {},
   "outputs": [],
   "source": [
    "for i in range(len(dataWordsCleared)):\n",
    "    for word in dataWordsCleared[i]:\n",
    "        frameWords.loc[i, word] += 1"
   ]
  },
  {
   "cell_type": "markdown",
   "metadata": {},
   "source": [
    "## Находим косинусное расстояние от предложения в самой первой строке до всех остальных."
   ]
  },
  {
   "cell_type": "code",
   "execution_count": 41,
   "metadata": {},
   "outputs": [],
   "source": [
    "from scipy.spatial.distance import cosine"
   ]
  },
  {
   "cell_type": "code",
   "execution_count": 42,
   "metadata": {},
   "outputs": [],
   "source": [
    "distanceFromFirstSentence = []\n",
    "\n",
    "for i in range(rowsCnt):\n",
    "    distanceFromFirstSentence.append(cosine(frameWords.loc[0], frameWords.loc[i]))"
   ]
  },
  {
   "cell_type": "code",
   "execution_count": 43,
   "metadata": {},
   "outputs": [
    {
     "data": {
      "text/plain": [
       "[[4, 0.7770887149698589], [6, 0.7327387580875756]]"
      ]
     },
     "execution_count": 43,
     "metadata": {},
     "output_type": "execute_result"
    }
   ],
   "source": [
    "distanceFromFirstSentenceCopy = list(distanceFromFirstSentence)\n",
    "twoClosestValues = [[-1, 0], [-1, 0]]\n",
    "\n",
    "distanceFromFirstSentenceCopy.remove(min(distanceFromFirstSentenceCopy))\n",
    "\n",
    "for i in range(2):\n",
    "    twoClosestValues[i][1] = min(distanceFromFirstSentenceCopy)\n",
    "    for j in range(len(distanceFromFirstSentence)):\n",
    "        if twoClosestValues[i][1] == distanceFromFirstSentence[j]:\n",
    "            twoClosestValues[i][0] = j\n",
    "    distanceFromFirstSentenceCopy.remove(min(distanceFromFirstSentenceCopy))\n",
    "\n",
    "twoClosestValues = sorted(twoClosestValues)\n",
    "twoClosestValues"
   ]
  },
  {
   "cell_type": "code",
   "execution_count": 44,
   "metadata": {},
   "outputs": [],
   "source": [
    "with open('answer.txt', 'w') as fileAnswer:\n",
    "    for i in range(len(twoClosestValues)):\n",
    "        fileAnswer.write(str(twoClosestValues[i][0]) + ' ')"
   ]
  },
  {
   "cell_type": "code",
   "execution_count": null,
   "metadata": {},
   "outputs": [],
   "source": []
  }
 ],
 "metadata": {
  "kernelspec": {
   "display_name": "Python 3",
   "language": "python",
   "name": "python3"
  },
  "language_info": {
   "codemirror_mode": {
    "name": "ipython",
    "version": 3
   },
   "file_extension": ".py",
   "mimetype": "text/x-python",
   "name": "python",
   "nbconvert_exporter": "python",
   "pygments_lexer": "ipython3",
   "version": "3.7.4"
  }
 },
 "nbformat": 4,
 "nbformat_minor": 2
}
